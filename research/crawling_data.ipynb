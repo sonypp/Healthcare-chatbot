{
 "cells": [
  {
   "cell_type": "code",
   "execution_count": 1,
   "metadata": {},
   "outputs": [],
   "source": [
    "import requests\n",
    "from bs4 import BeautifulSoup\n",
    "from mpi4py import MPI\n",
    "from googletrans import Translator\n",
    "from fpdf import FPDF"
   ]
  },
  {
   "cell_type": "code",
   "execution_count": 3,
   "metadata": {},
   "outputs": [],
   "source": [
    "# Get the number of processes\n",
    "comm = MPI.COMM_WORLD\n",
    "size = comm.Get_size()"
   ]
  },
  {
   "cell_type": "code",
   "execution_count": 4,
   "metadata": {},
   "outputs": [],
   "source": [
    "# Connect to the website\n",
    "resp = requests.get(\"https://www.vinmec.com/vi/benh/\")\n",
    "soup = BeautifulSoup(resp.text, 'html.parser')"
   ]
  },
  {
   "cell_type": "code",
   "execution_count": 5,
   "metadata": {},
   "outputs": [],
   "source": [
    "# Get the link extentions and divide them into processes\n",
    "uls = soup.find_all('ul', class_='collapsible-target')\n",
    "lis = [li for ul in uls for li in ul.find_all('li')]\n",
    "link_extensions = [li.find('a')['href'] for li in lis if li.find('a') is not None]\n",
    "# splited_link_extentions = [link_extentions[i::size] for i in range(size)]\n",
    "# comm.Scatter(splited_link_extentions, link_extentions, root=0)"
   ]
  },
  {
   "cell_type": "code",
   "execution_count": 22,
   "metadata": {},
   "outputs": [
    {
     "data": {
      "text/plain": [
       "''"
      ]
     },
     "execution_count": 22,
     "metadata": {},
     "output_type": "execute_result"
    }
   ],
   "source": [
    "# Get and process the content of per link\n",
    "# for link in link_extentions:\n",
    "link = link_extensions[0]\n",
    "link = \"https://www.vinmec.com\" + link\n",
    "resp = requests.get(link)\n",
    "soup = BeautifulSoup(resp.text, 'html.parser')\n",
    "content = soup.find('div', class_='content')\n",
    "\n",
    "translator = Translator()\n",
    "\n",
    "pdf=FPDF()\n",
    "pdf.add_page()\n",
    "pdf.add_font('DejaVu', '', '../font/DejaVuSansCondensed.ttf', uni=True)\n",
    "pdf.set_font('DejaVu', '', 14)\n",
    "\n",
    "for element in content.find_all('p'):\n",
    "    text = element.get_text()\n",
    "    if text == '\\xa0':\n",
    "        break\n",
    "    pdf.write(8, translator.translate(text, src='vi', dest='en').text)\n",
    "    pdf.ln()\n",
    "    \n",
    "pdf.output('../data/a.pdf','F')"
   ]
  },
  {
   "cell_type": "code",
   "execution_count": null,
   "metadata": {},
   "outputs": [],
   "source": []
  }
 ],
 "metadata": {
  "kernelspec": {
   "display_name": ".venv",
   "language": "python",
   "name": "python3"
  },
  "language_info": {
   "codemirror_mode": {
    "name": "ipython",
    "version": 3
   },
   "file_extension": ".py",
   "mimetype": "text/x-python",
   "name": "python",
   "nbconvert_exporter": "python",
   "pygments_lexer": "ipython3",
   "version": "3.10.12"
  }
 },
 "nbformat": 4,
 "nbformat_minor": 2
}
